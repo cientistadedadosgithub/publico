{
  "nbformat": 4,
  "nbformat_minor": 0,
  "metadata": {
    "colab": {
      "name": "Untitled11.ipynb",
      "provenance": [],
      "authorship_tag": "ABX9TyOKCHkIto3v+qZPvm9vTrAt",
      "include_colab_link": true
    },
    "kernelspec": {
      "name": "python3",
      "display_name": "Python 3"
    },
    "language_info": {
      "name": "python"
    }
  },
  "cells": [
    {
      "cell_type": "markdown",
      "metadata": {
        "id": "view-in-github",
        "colab_type": "text"
      },
      "source": [
        "<a href=\"https://colab.research.google.com/github/cientistadedadosgithub/publico/blob/PhytonFundamentos/cap03_ex01_loop.ipynb\" target=\"_parent\"><img src=\"https://colab.research.google.com/assets/colab-badge.svg\" alt=\"Open In Colab\"/></a>"
      ]
    },
    {
      "cell_type": "code",
      "metadata": {
        "id": "szpu8PYlW7Lw"
      },
      "source": [
        ""
      ],
      "execution_count": null,
      "outputs": []
    },
    {
      "cell_type": "markdown",
      "metadata": {
        "id": "D3tPixk0W2wR"
      },
      "source": [
        "# <font color='blue'>Data Science Academy - Python Fundamentos - Capítulo 3</font>\n",
        "\n",
        "## Download: http://github.com/dsacademybr"
      ]
    },
    {
      "cell_type": "code",
      "metadata": {
        "id": "C-j1rjbrW2wV"
      },
      "source": [
        "# Versão da Linguagem Python\n",
        "from platform import python_version\n",
        "print('Versão da Linguagem Python Usada Neste Jupyter Notebook:', python_version())"
      ],
      "execution_count": null,
      "outputs": []
    },
    {
      "cell_type": "markdown",
      "metadata": {
        "id": "w1UrP4HkW2wY"
      },
      "source": [
        "## Exercícios - Loops e Condiconais"
      ]
    },
    {
      "cell_type": "code",
      "metadata": {
        "id": "qmyjf36WW2wZ"
      },
      "source": [
        "# Exercício 1 - Crie uma estrutura que pergunte ao usuário qual o dia da semana. Se o dia for igual a Domingo ou \n",
        "# igual a sábado, imprima na tela \"Hoje é dia de descanso\", caso contrário imprima na tela \"Você precisa trabalhar!\""
      ],
      "execution_count": null,
      "outputs": []
    },
    {
      "cell_type": "code",
      "metadata": {
        "colab": {
          "base_uri": "https://localhost:8080/"
        },
        "id": "5DMsanVQXb9_",
        "outputId": "1eaa181d-27ef-4ca1-cac7-d4ba112c8253"
      },
      "source": [
        "dia_semana = input('Digite o dia da semana em letras minúsculas e com acento, se houver:')\n",
        "#if dia_semana in ('Sábado',\"Domingo\"):\n",
        "if (dia_semana =='sábado') or (dia_semana =='domingo'):\n",
        "  print('Hoje %r, ou seja, é dia de descanso!'%(dia_semana))\n",
        "else:\n",
        "  print('Hoje é %r, ou seja, você precisa trabalhar!'%(dia_semana))\n",
        "  #entender pq aceita %r e %s e não aceita outras letras, por exemplo %p"
      ],
      "execution_count": null,
      "outputs": [
        {
          "output_type": "stream",
          "text": [
            "Digite o dia da semana em letras minúsculas e com acento, se houver:quarta\n",
            "Hoje é 'quarta', ou seja, você precisa trabalhar!\n"
          ],
          "name": "stdout"
        }
      ]
    },
    {
      "cell_type": "code",
      "metadata": {
        "id": "AxeAX-iDW2wa"
      },
      "source": [
        "# Exercício 2 - Crie uma lista de 5 frutas e verifique se a fruta 'Morango' faz parte da lista"
      ],
      "execution_count": null,
      "outputs": []
    },
    {
      "cell_type": "code",
      "metadata": {
        "colab": {
          "base_uri": "https://localhost:8080/"
        },
        "id": "KSHnqjBeaYHt",
        "outputId": "d6a9873c-19f5-4f32-d00d-1d8ee56ae110"
      },
      "source": [
        "lista = ['laranja', 'melancia', 'abacate', 'banana', 'uva']\n",
        "for fruta in lista:\n",
        "  if fruta == \"morango\":\n",
        "    print('O morango está na lista!')\n",
        "  else:\n",
        "    print('O morango não está na lista!')\n",
        "    # depois quebrar a cabeça para programar de forma que a resposta seja apenas uma linha"
      ],
      "execution_count": 30,
      "outputs": [
        {
          "output_type": "stream",
          "text": [
            "O morango não está na lista!\n",
            "O morango não está na lista!\n",
            "O morango não está na lista!\n",
            "O morango não está na lista!\n",
            "O morango não está na lista!\n"
          ],
          "name": "stdout"
        }
      ]
    },
    {
      "cell_type": "code",
      "metadata": {
        "colab": {
          "base_uri": "https://localhost:8080/"
        },
        "id": "VGrWhp8elkOs",
        "outputId": "2f82e99d-81e4-4633-d8af-e0ce76c0046a"
      },
      "source": [
        "lista = ['laranja', 'melancia', 'abacate', 'banana', 'uva']\n",
        "for fruta in lista:\n",
        "  while fruta == 'morango':\n",
        "    print('morango está na lista')\n",
        "  else:\n",
        "    print('morango não está na lista')    "
      ],
      "execution_count": 21,
      "outputs": [
        {
          "output_type": "stream",
          "text": [
            "morango não está na lista\n",
            "morango não está na lista\n",
            "morango não está na lista\n",
            "morango não está na lista\n",
            "morango não está na lista\n"
          ],
          "name": "stdout"
        }
      ]
    },
    {
      "cell_type": "code",
      "metadata": {
        "id": "a0clYewaW2wb"
      },
      "source": [
        "# Exercício 3 - Crie uma tupla de 4 elementos, multiplique cada elemento da tupla por 2 e guarde os resultados em uma \n",
        "# lista"
      ],
      "execution_count": null,
      "outputs": []
    },
    {
      "cell_type": "code",
      "metadata": {
        "colab": {
          "base_uri": "https://localhost:8080/"
        },
        "id": "cMS_YwgWohtS",
        "outputId": "d0078c39-9e9f-4f69-d88e-623fbc5241f6"
      },
      "source": [
        "lista.clear()\n",
        "tupla = (2,4,6,8)\n",
        "for i in tupla:\n",
        "  a = i*2\n",
        "  lista.append(a)\n",
        "print(lista)"
      ],
      "execution_count": 33,
      "outputs": [
        {
          "output_type": "stream",
          "text": [
            "[4, 8, 12, 16]\n"
          ],
          "name": "stdout"
        }
      ]
    },
    {
      "cell_type": "code",
      "metadata": {
        "id": "5knvV7SfW2wc"
      },
      "source": [
        "# Exercício 4 - Crie uma sequência de números pares entre 100 e 150 e imprima na tela"
      ],
      "execution_count": null,
      "outputs": []
    },
    {
      "cell_type": "code",
      "metadata": {
        "id": "7f0B6ta5qIrX"
      },
      "source": [
        "print('Números pares entre 100 e 150: ')\n",
        "for i in range(100,151,2):\n",
        "  print(str(i))  "
      ],
      "execution_count": null,
      "outputs": []
    },
    {
      "cell_type": "code",
      "metadata": {
        "id": "7JUAHAtvW2wd"
      },
      "source": [
        "# Exercício 5 - Crie uma variável chamada temperatura e atribua o valor 40. Enquanto temperatura for maior que 35, \n",
        "# imprima as temperaturas na tela"
      ],
      "execution_count": null,
      "outputs": []
    },
    {
      "cell_type": "code",
      "metadata": {
        "colab": {
          "base_uri": "https://localhost:8080/"
        },
        "id": "MxOpxWupq_lx",
        "outputId": "c1c2aec7-495e-4492-ac72-9e168221e6d0"
      },
      "source": [
        "temperatura = 40  \n",
        "while temperatura > 35: \n",
        "    print(temperatura)\n",
        "    temperatura = temperatura - 1"
      ],
      "execution_count": 7,
      "outputs": [
        {
          "output_type": "stream",
          "text": [
            "40\n",
            "39\n",
            "38\n",
            "37\n",
            "36\n"
          ],
          "name": "stdout"
        }
      ]
    },
    {
      "cell_type": "code",
      "metadata": {
        "id": "N5vWq5hGW2wd"
      },
      "source": [
        "# Exercício 6 - Crie uma variável chamada contador = 0. Enquanto counter for menor que 100, imprima os valores na tela,\n",
        "# mas quando for encontrado o valor 23, interrompa a execução do programa"
      ],
      "execution_count": null,
      "outputs": []
    },
    {
      "cell_type": "code",
      "metadata": {
        "id": "EVIbWEzHnWyk"
      },
      "source": [
        "contador = 0\n",
        "while contador < 100:\n",
        "  if contador == 23:\n",
        "    break\n",
        "  else:\n",
        "    print(contador)\n",
        "    contador += 1"
      ],
      "execution_count": null,
      "outputs": []
    },
    {
      "cell_type": "code",
      "metadata": {
        "id": "k-VeQm8AW2we"
      },
      "source": [
        "# Exercício 7 - Crie uma lista vazia e uma variável com valor 4. Enquanto o valor da variável for menor ou igual a 20, \n",
        "# adicione à lista, apenas os valores pares e imprima a lista"
      ],
      "execution_count": null,
      "outputs": []
    },
    {
      "cell_type": "code",
      "metadata": {
        "colab": {
          "base_uri": "https://localhost:8080/"
        },
        "id": "5BaUo0HFoUcG",
        "outputId": "531ca225-0eaa-439f-ea5d-13bc8e0c8070"
      },
      "source": [
        "lista = []\n",
        "var = 4\n",
        "while var <= 20:\n",
        "    lista.append(var)\n",
        "    var += 2\n",
        "print(lista)\n"
      ],
      "execution_count": 15,
      "outputs": [
        {
          "output_type": "stream",
          "text": [
            "[4, 6, 8, 10, 12, 14, 16, 18, 20]\n"
          ],
          "name": "stdout"
        }
      ]
    },
    {
      "cell_type": "code",
      "metadata": {
        "id": "x9xfIoPqW2we",
        "colab": {
          "base_uri": "https://localhost:8080/"
        },
        "outputId": "8d978cd9-3f3a-438b-8116-a67e924b1890"
      },
      "source": [
        "# Exercício 8 - Transforme o resultado desta função range em uma lista: range(5, 45, 2)\n",
        "lista = []\n",
        "nums = range(5, 45, 2)\n",
        "for i in nums:\n",
        "  lista.append(i)\n",
        "print(lista)"
      ],
      "execution_count": 18,
      "outputs": [
        {
          "output_type": "stream",
          "text": [
            "[5, 7, 9, 11, 13, 15, 17, 19, 21, 23, 25, 27, 29, 31, 33, 35, 37, 39, 41, 43]\n"
          ],
          "name": "stdout"
        }
      ]
    },
    {
      "cell_type": "code",
      "metadata": {
        "colab": {
          "base_uri": "https://localhost:8080/"
        },
        "id": "Zs9Gms1xr8EE",
        "outputId": "ec9dcbe1-d7a4-4171-d590-fb489f1dafe1"
      },
      "source": [
        "nums = range(5, 45, 2)\n",
        "print(list(nums))"
      ],
      "execution_count": 21,
      "outputs": [
        {
          "output_type": "stream",
          "text": [
            "[5, 7, 9, 11, 13, 15, 17, 19, 21, 23, 25, 27, 29, 31, 33, 35, 37, 39, 41, 43]\n"
          ],
          "name": "stdout"
        }
      ]
    },
    {
      "cell_type": "code",
      "metadata": {
        "id": "_Wzw4PwVW2wf",
        "colab": {
          "base_uri": "https://localhost:8080/"
        },
        "outputId": "62249b3b-d945-4cb9-d12b-65be32e0bbdd"
      },
      "source": [
        "# Exercício 9 - Faça a correção dos erros no código abaixo e execute o programa. Dica: são 3 erros.\n",
        "temperatura = float(input('Qual a temperatura? '))\n",
        "if temperatura > 30:\n",
        "  print('Vista roupas leves.')\n",
        "else:\n",
        "    print('Busque seus casacos.')"
      ],
      "execution_count": 25,
      "outputs": [
        {
          "output_type": "stream",
          "text": [
            "Qual a temperatura? 35.2\n",
            "Vista roupas leves.\n"
          ],
          "name": "stdout"
        }
      ]
    },
    {
      "cell_type": "code",
      "metadata": {
        "id": "GROFUDIZW2wg",
        "colab": {
          "base_uri": "https://localhost:8080/"
        },
        "outputId": "c4278f58-8dd0-419d-f947-a861781028e6"
      },
      "source": [
        "# Exercício 10 - Faça um programa que conte quantas vezes a letra \"r\" aparece na frase abaixo. Use um placeholder na \n",
        "# sua instrução de impressão\n",
        "\n",
        "# “É melhor, muito melhor, contentar-se com a realidade; se ela não é tão brilhante como os sonhos, tem pelo menos a \n",
        "# vantagem de existir.” (Machado de Assis)\n",
        "\n",
        "frase = \"É melhor, muito melhor, contentar-se com a realidade; se ela não é tão brilhante como os sonhos, tem pelo menos a vantagem de existir.\" \n",
        "j = 0\n",
        "for i in frase:\n",
        "  if i == 'r':\n",
        "    j+=1   \n",
        "print(\"A letra r aparece %r vezes na frase.\" %(j))\n"
      ],
      "execution_count": 28,
      "outputs": [
        {
          "output_type": "stream",
          "text": [
            "A letra r aparece 6 vezes na frase.\n"
          ],
          "name": "stdout"
        }
      ]
    },
    {
      "cell_type": "code",
      "metadata": {
        "id": "vobHG3-TtMv8"
      },
      "source": [
        "frase = \"É melhor, muito melhor, contentar-se com a realidade; se ela não é tão brilhante como os sonhos, tem pelo menos a vantagem de existir.\" \n",
        "count = 0\n",
        "for caracter in frase:\n",
        "    if caracter == 'r':\n",
        "        count += 1\n",
        "print(\"O caracter r aparece %s vezes na frase.\" %(count))"
      ],
      "execution_count": null,
      "outputs": []
    },
    {
      "cell_type": "code",
      "metadata": {
        "id": "8hbR-l3fsoLu"
      },
      "source": [
        ""
      ],
      "execution_count": null,
      "outputs": []
    },
    {
      "cell_type": "markdown",
      "metadata": {
        "id": "HOC9g5svW2wh"
      },
      "source": [
        "# Fim"
      ]
    },
    {
      "cell_type": "markdown",
      "metadata": {
        "id": "gI6wF4ZeW2wi"
      },
      "source": [
        "### Obrigado - Data Science Academy - <a href=\"http://facebook.com/dsacademybr\">facebook.com/dsacademybr</a>"
      ]
    }
  ]
}